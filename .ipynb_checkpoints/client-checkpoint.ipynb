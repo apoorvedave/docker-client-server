{
 "cells": [
  {
   "cell_type": "code",
   "execution_count": 75,
   "metadata": {
    "collapsed": true
   },
   "outputs": [],
   "source": [
    "import socket\n",
    "import time"
   ]
  },
  {
   "cell_type": "code",
   "execution_count": 76,
   "metadata": {
    "collapsed": true
   },
   "outputs": [],
   "source": [
    "host = 'localhost' \n",
    "port = 9000\n",
    "size = 1024\n",
    "fname = '/Users/apoorve/data/string.txt'\n",
    "content = [line.upper() for line in open(fname)]"
   ]
  },
  {
   "cell_type": "code",
   "execution_count": 77,
   "metadata": {
    "collapsed": false
   },
   "outputs": [
    {
     "name": "stdout",
     "output_type": "stream",
     "text": [
      "MISSING MY NAME IS \n",
      "\n",
      "OK APOORVE DAVE\n",
      "\n",
      "MISSING I AM TROUBLED\n",
      "\n",
      "MISSING WITH THIS CODE\n",
      "\n",
      "OK BUT SHOULD BE ABLE TO COMPLETE\n",
      "\n",
      "MISSING MY NAME IS \n",
      "\n",
      "OK APOORVE DAVE\n",
      "\n",
      "MISSING I AM TROUBLED\n",
      "\n",
      "MISSING WITH THIS CODE\n",
      "\n",
      "OK BUT SHOULD BE ABLE TO COMPLETE\n",
      "\n"
     ]
    }
   ],
   "source": [
    "for i in range(10):\n",
    "    send_socket = socket.socket(socket.AF_INET, socket.SOCK_STREAM)\n",
    "    send_socket.connect((host,port))\n",
    "    send_socket.send('LINE')\n",
    "    data = send_socket.recv(size)\n",
    "    if data in content:\n",
    "        print 'OK', data\n",
    "    else:\n",
    "        print 'MISSING', data\n",
    "    send_socket.close()\n",
    "    time.sleep(3)"
   ]
  },
  {
   "cell_type": "code",
   "execution_count": null,
   "metadata": {
    "collapsed": true
   },
   "outputs": [],
   "source": [
    "fname = '/Users/apoorve/data/string.txt'\n",
    "content = [line.upper() for line in open(fname)]"
   ]
  }
 ],
 "metadata": {
  "kernelspec": {
   "display_name": "Python 2",
   "language": "python",
   "name": "python2"
  },
  "language_info": {
   "codemirror_mode": {
    "name": "ipython",
    "version": 2
   },
   "file_extension": ".py",
   "mimetype": "text/x-python",
   "name": "python",
   "nbconvert_exporter": "python",
   "pygments_lexer": "ipython2",
   "version": "2.7.10"
  }
 },
 "nbformat": 4,
 "nbformat_minor": 0
}
